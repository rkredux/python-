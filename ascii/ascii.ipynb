{
 "cells": [
  {
   "cell_type": "code",
   "execution_count": 7,
   "metadata": {},
   "outputs": [
    {
     "name": "stdout",
     "output_type": "stream",
     "text": [
      "<module 'PIL.Image' from '/Users/rkumar/anaconda3/lib/python3.6/site-packages/PIL/Image.py'>\n"
     ]
    }
   ],
   "source": [
    "from PIL import Image \n",
    "import numpy as np\n",
    "#location of the PIL Lib\n",
    "print(Image)"
   ]
  },
  {
   "cell_type": "code",
   "execution_count": 8,
   "metadata": {
    "collapsed": true
   },
   "outputs": [],
   "source": [
    "#quick introspection of Image class \n",
    "#print(dir(Image))\n",
    "#print(dir(Image.open(\"/Users/rkumar/desktop/python/ascii/images/stark.png\")))"
   ]
  },
  {
   "cell_type": "code",
   "execution_count": 40,
   "metadata": {},
   "outputs": [],
   "source": [
    "ASCII_STR=\"`^\\\",:;Il!i~+_-?][}{1)(|\\\\/tfjrxnuvczXYUJCLQ0OZmwqpdbkhao*#MW&8%B@$\"\n",
    "\n",
    "def ascii_implementer(path_to_image):\n",
    "    ASCII_LIST = [char for char in ASCII_STR]\n",
    "    char_match_ratio = (len(ASCII_LIST)/255)\n",
    "    \n",
    "    im = Image.open(path_to_image)\n",
    "    \n",
    "    #pixel access object \n",
    "    px = im.load()\n",
    "    #print(dir(px))\n",
    " \n",
    "    #2D Array\n",
    "    pixel_matrix = []\n",
    "    \n",
    "    for j in range(0, im.size[0], 1):\n",
    "        inner_arr = []\n",
    "        for i in range(0,im.size[1],1):\n",
    "            pixel_tuple = px[j,i]\n",
    "            average_brightness = int((pixel_tuple[0] + pixel_tuple[1] + pixel_tuple[2])/3)\n",
    "            ascii_equivalent = ASCII_LIST[int(average_brightness * char_match_ratio) -1]     \n",
    "            inner_arr.append(ascii_equivalent)\n",
    "            \n",
    "        pixel_matrix.append(inner_arr)\n",
    "    \n",
    "    #quick test to check if we covered all the pixels\n",
    "    if len(pixel_matrix) == 750:\n",
    "        print(\"Successfully constructed the pixel matrix\")\n",
    "        print(\"Pixel maxtrix size {} X {}\".format(len(pixel_matrix), len(pixel_matrix[0])))\n",
    "    #TODO code should exit here \n",
    "    else: \n",
    "        print(\"We are missing some pixels\")\n",
    "    \n",
    "    print(\"Iterating through pixel contents:\")\n",
    "    for entry in pixel_matrix: \n",
    "        for inner_entry in entry:  \n",
    "            print(inner_entry)\n",
    "\n",
    "\n",
    "# ascii_implementer(\"/Users/rkumar/desktop/python/ascii/images/stark.png\")"
   ]
  },
  {
   "cell_type": "code",
   "execution_count": null,
   "metadata": {
    "collapsed": true
   },
   "outputs": [],
   "source": []
  }
 ],
 "metadata": {
  "kernelspec": {
   "display_name": "Python 3",
   "language": "python",
   "name": "python3"
  },
  "language_info": {
   "codemirror_mode": {
    "name": "ipython",
    "version": 3
   },
   "file_extension": ".py",
   "mimetype": "text/x-python",
   "name": "python",
   "nbconvert_exporter": "python",
   "pygments_lexer": "ipython3",
   "version": "3.6.8"
  }
 },
 "nbformat": 4,
 "nbformat_minor": 2
}
